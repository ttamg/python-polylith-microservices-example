{
 "cells": [
  {
   "attachments": {},
   "cell_type": "markdown",
   "metadata": {},
   "source": [
    "# Fake data\n",
    "\n",
    "Some ideas how to create fake data simulating the calling of an API. \n",
    "\n",
    "Using Faker we could fetch a few fake geo points.\n",
    "\n",
    "And then for this tutorial we could assume the processing worker wants to do some analysis such as finding the central point from these geo locations.  That will be a nice demo scenario"
   ]
  },
  {
   "cell_type": "code",
   "execution_count": 1,
   "metadata": {},
   "outputs": [],
   "source": [
    "from faker import Faker\n",
    "import random"
   ]
  },
  {
   "cell_type": "code",
   "execution_count": 2,
   "metadata": {},
   "outputs": [
    {
     "data": {
      "text/plain": [
       "('54.84444', '38.16694', 'Kashira', 'RU', 'Europe/Moscow')"
      ]
     },
     "execution_count": 2,
     "metadata": {},
     "output_type": "execute_result"
    }
   ],
   "source": [
    "fake = Faker()\n",
    "\n",
    "fake.location_on_land()"
   ]
  },
  {
   "cell_type": "code",
   "execution_count": 3,
   "metadata": {},
   "outputs": [],
   "source": [
    "def generate_data():\n",
    "    \"\"\"We will fetch a random number of geos\"\"\"\n",
    "    data = []\n",
    "    for i in range(random.randint(2, 8)):\n",
    "        data.append(fake.location_on_land())\n",
    "    return data"
   ]
  },
  {
   "cell_type": "code",
   "execution_count": 4,
   "metadata": {},
   "outputs": [
    {
     "data": {
      "text/plain": [
       "[('39.59611', '27.02444', 'Edremit', 'TR', 'Europe/Istanbul'),\n",
       " ('48.49144', '9.20427', 'Reutlingen', 'DE', 'Europe/Berlin'),\n",
       " ('34.09611', '-118.10583', 'San Gabriel', 'US', 'America/Los_Angeles'),\n",
       " ('47.98372', '10.18527', 'Memmingen', 'DE', 'Europe/Berlin'),\n",
       " ('-22.53722', '-42.98194', 'Guapimirim', 'BR', 'America/Sao_Paulo')]"
      ]
     },
     "execution_count": 4,
     "metadata": {},
     "output_type": "execute_result"
    }
   ],
   "source": [
    "generate_data()"
   ]
  },
  {
   "attachments": {},
   "cell_type": "markdown",
   "metadata": {},
   "source": [
    "This will be our little random data generator we will use in the fetch worker"
   ]
  },
  {
   "cell_type": "markdown",
   "metadata": {},
   "source": []
  },
  {
   "cell_type": "code",
   "execution_count": null,
   "metadata": {},
   "outputs": [],
   "source": []
  }
 ],
 "metadata": {
  "kernelspec": {
   "display_name": ".venv",
   "language": "python",
   "name": "python3"
  },
  "language_info": {
   "codemirror_mode": {
    "name": "ipython",
    "version": 3
   },
   "file_extension": ".py",
   "mimetype": "text/x-python",
   "name": "python",
   "nbconvert_exporter": "python",
   "pygments_lexer": "ipython3",
   "version": "3.11.1 (main, Dec 23 2022, 09:28:24) [Clang 14.0.0 (clang-1400.0.29.202)]"
  },
  "orig_nbformat": 4,
  "vscode": {
   "interpreter": {
    "hash": "e312d00c0035e1a075cca129be038e4a92c47787dd29c5d0f304be6e82a509c0"
   }
  }
 },
 "nbformat": 4,
 "nbformat_minor": 2
}
